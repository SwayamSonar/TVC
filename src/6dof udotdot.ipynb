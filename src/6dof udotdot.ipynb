{
 "cells": [
  {
   "cell_type": "code",
   "execution_count": 13,
   "metadata": {},
   "outputs": [],
   "source": [
    "using Utils, Plots, LinearAlgebra\n",
    "using DifferentialEquations\n",
    "include(\"./Rocket_Acceleration.jl\")\n",
    "include(\"./Quaternions.jl\")"
   ]
  },
  {
   "cell_type": "code",
   "execution_count": null,
   "metadata": {},
   "outputs": [],
   "source": [
    "module scp_new_problem\n",
    "include(\"./6dof fixed t_burn udotdot.jl\")\n",
    "end # module\n",
    "\n",
    "using .scp_new_problem"
   ]
  },
  {
   "cell_type": "code",
   "execution_count": null,
   "metadata": {},
   "outputs": [],
   "source": [
    "solution = scp_new_problem.solve(:ptr); # Remember J is augmented cost function"
   ]
  },
  {
   "cell_type": "code",
   "execution_count": null,
   "metadata": {},
   "outputs": [],
   "source": [
    "scp_new_problem.print(solution)\n",
    "scp_new_problem.plot(solution)\n",
    "# scp_new_problem.save(solution)"
   ]
  },
  {
   "cell_type": "code",
   "execution_count": null,
   "metadata": {},
   "outputs": [],
   "source": [
    "t_burn = 3.45\n",
    "\n",
    "t_plot = LinRange(0, 1, 1000) * t_burn\n",
    "Plots.plot(t_plot, [rad2deg(norm(sample(solution.xc, k)[17:19])) for k in t_plot / t_burn], title=\"TVC Angular Velocity (Degrees)\", label = \"Continuous\")\n",
    "\n",
    "t_plot = solution.td * t_burn\n",
    "Plots.plot!(t_plot, [rad2deg(norm(sample(solution.xc, k)[17:19])) for k in t_plot / t_burn], label = \"Discrete\")"
   ]
  },
  {
   "cell_type": "code",
   "execution_count": null,
   "metadata": {},
   "outputs": [],
   "source": [
    "solution.xd[4:6, 1] + Acceleration(dt) * [0; 0; 1] * dt + g * dt"
   ]
  },
  {
   "cell_type": "code",
   "execution_count": null,
   "metadata": {},
   "outputs": [],
   "source": [
    "t_burn = 3.45\n",
    "g = [0; 0; -9.80655]\n",
    "\n",
    "function f!(dx, x, p, t)\n",
    "    t_burn = 3.45\n",
    "\n",
    "    r = x[1:3]\n",
    "    v = x[4:6]\n",
    "    quat = x[7:10]\n",
    "    w = x[11:13]\n",
    "    T = x[14:16]\n",
    "    T_dot = x[17:19]\n",
    "\n",
    "    Control = sample(solution.uc, t / t_burn) # if false, false\n",
    "\n",
    "    Id = Diagonal([0.2, 0.2, 0.04])\n",
    "    invId = Diagonal([5.0, 5.0, 25.0])\n",
    "\n",
    "    dx[1:3] = v\n",
    "    dx[4:6] = g + rotate(quat, T) * Acceleration(t)\n",
    "    dx[7:10] = 1/2 * quatL(quat) * [0; w]\n",
    "    dx[11:13] = invId * ([0; 0; -0.5] × T * Acceleration(t) + [0; 0; Control[4]] - cross(w, Id * w))\n",
    "    dx[14:16] = T_dot\n",
    "    dx[17:19] = Control[1:3]\n",
    "end\n",
    "\n",
    "prob = ODEProblem(f!, solution.xd[:, 1], (0.0, t_burn))\n",
    "sol = DifferentialEquations.solve(prob, reltol=1e-8, abstol=1e-8)\n",
    "\n",
    "xc = sol(solution.td * t_burn).u\n",
    "xmatrix = transpose(reduce(hcat, xc))\n",
    "# plot(xmatrix[:, 1], xmatrix[:, 2], xmatrix[:, 3])\n",
    "# # plot(sol)"
   ]
  },
  {
   "cell_type": "code",
   "execution_count": null,
   "metadata": {},
   "outputs": [],
   "source": [
    "# above is same as solution.xc i think.\n",
    "\n",
    "# xc = [sample(solution.xc, t) for t in solution.td]\n",
    "# xmatrix = transpose(reduce(hcat, xc));"
   ]
  },
  {
   "cell_type": "code",
   "execution_count": null,
   "metadata": {},
   "outputs": [],
   "source": [
    "println(norm(xmatrix - solution.xd', Inf))\n",
    "println(norm(xmatrix - solution.xd'))\n",
    "\n",
    "v_N = [0;0;0]\n",
    "println(\"Cost: $(norm(xmatrix[end, 4:6] - v_N))\")"
   ]
  },
  {
   "cell_type": "code",
   "execution_count": null,
   "metadata": {},
   "outputs": [],
   "source": [
    "# solution.xd[17:19, 1] + solution.ud[1:3, 1] * dt + dt^2 /2 * (solution.ud[1:3, 2] - solution.ud[1:3, 1]) / dt\n",
    "# solution.xd[14:16, 1] + solution.xd[17:19, 1] * dt + solution.ud[1:3, 1] * dt^2/2 + dt^3 / 6 * (solution.ud[1:3, 2] - solution.ud[1:3, 1]) / dt\n",
    "\n",
    "# solution.ud[1:3, 1] * dt^2/2"
   ]
  },
  {
   "cell_type": "code",
   "execution_count": null,
   "metadata": {},
   "outputs": [],
   "source": [
    "# xmatrix - solution.xd'\n",
    "show(stdout, \"text/plain\", xmatrix - solution.xd')"
   ]
  },
  {
   "cell_type": "code",
   "execution_count": null,
   "metadata": {},
   "outputs": [],
   "source": [
    "count(abs.(norm.(eachcol(solution.xd[7:10, :]))) .- 1 .> 1e-6) # check if quat norm is within 1e-6 of 1."
   ]
  }
 ],
 "metadata": {
  "interpreter": {
   "hash": "935fe05cbaa5132a5b4e24a32b42d186973e26ed4e0ad0017b71eda8c8cbc5c9"
  },
  "kernelspec": {
   "display_name": "Julia 1.6.2",
   "language": "julia",
   "name": "julia-1.6"
  },
  "language_info": {
   "file_extension": ".jl",
   "mimetype": "application/julia",
   "name": "julia",
   "version": "1.6.2"
  },
  "orig_nbformat": 4
 },
 "nbformat": 4,
 "nbformat_minor": 2
}
